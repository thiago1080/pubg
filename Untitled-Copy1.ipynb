{
 "cells": [
  {
   "cell_type": "code",
   "execution_count": 1,
   "metadata": {},
   "outputs": [
    {
     "name": "stdout",
     "output_type": "stream",
     "text": [
      "Object `proc_df` not found.\n"
     ]
    }
   ],
   "source": [
    "??proc_df"
   ]
  },
  {
   "cell_type": "code",
   "execution_count": 1,
   "metadata": {},
   "outputs": [],
   "source": [
    "import numpy as np\n",
    "import pandas as pd\n",
    "from fastai.imports import *\n",
    "from fastai.structured import *\n",
    "from sklearn.ensemble import RandomForestRegressor, RandomForestClassifier\n",
    "from sklearn.metrics import mean_absolute_error as mae\n",
    "\n",
    "??mae\n",
    "\n",
    "! ls /home/thiago.martinelli/code/main/data/pubg\n",
    "\n",
    "TRAIN_FILE='/home/thiago.martinelli/code/main/data/pubg/train_V2.csv'\n",
    "TEST_FILE='/home/thiago.martinelli/code/main/data/pubg/test_V2.csv'\n",
    "\n",
    "df = pd.read_csv(TRAIN_FILE, engine='python')\n",
    "\n",
    "def display_all(df):\n",
    "    with pd.option_context(\"display.max_rows\", 1000, \"display.max_columns\", 1000): \n",
    "        display(df)\n",
    "\n",
    "display_all(df.head().T)\n",
    "\n",
    "df_raw=df\n",
    "\n",
    "df, y, nas = proc_df(df_raw, 'winPlacePerc')\n",
    "\n",
    "df_tr, y_tr, nas_tr = proc_df(df_raw, 'winPlacePerc', subset=50000)\n",
    "\n",
    "def split_vals(a,n): return a[:n].copy(), a[n:].copy()\n",
    "\n",
    "n_valid = 12000  # same as Kaggle's test set size\n",
    "n_tr = len(df_tr)-n_valid\n",
    "#raw_train, raw_valid = split_vals(df_raw, n_tr)\n",
    "X_train, X_valid = split_vals(df_tr, n_tr)\n",
    "y_train, y_valid = split_vals(y_tr, n_tr)\n",
    "\n",
    "X_train.shape, y_train.shape, X_valid.shape\n",
    "\n",
    "def imae(x,y): return ((x-y)).mean()\n",
    "\n",
    "\n",
    "def print_score(m):\n",
    "    maer = [imae(m.predict(X_train), y_train), imae(m.predict(X_valid), y_valid),\n",
    "                m.score(X_train, y_train), m.score(X_valid, y_valid)]\n",
    "    if hasattr(m, 'oob_score_'): res.append(m.oob_score_)\n",
    "    print(maer)\n",
    "\n",
    "X_train, _ = split_vals(df1_tr, 20000)\n",
    "y_train, _ = split_vals(y_tr, 20000)\n",
    "\n",
    "m = RandomForestRegressor(n_jobs=-1)\n",
    "# The following code is supposed to fail due to string values in the input data\n",
    "m.fit(X_train, y_train)\n",
    "\n",
    "print_score(m)\n",
    "\n",
    "df_test = pd.read_csv(TEST_FILE)\n",
    "\n",
    "df_test.head()\n",
    "\n",
    "df_ts = proc_df(df_test)\n",
    "\n",
    "df_ts = df_ts[0]\n",
    "\n",
    "predictions = m.predict(df_ts)\n",
    "\n",
    "predictions.shape\n",
    "\n",
    "df_test['Id'].shape\n",
    "\n",
    "dsub = pd.DataFrame()\n",
    "\n",
    "dsub['Id'] = df_test['Id']\n",
    "\n",
    "dsub['winPlacePerc'] = predictions\n",
    "\n",
    "dsub.head()\n",
    "\n",
    "dsub.to_csv('submission_V2.csv')\n",
    "\n",
    "for i in df_test.shape[0]:\n",
    "    dsub = dsub.append()\n",
    "\n"
   ]
  },
  {
   "cell_type": "code",
   "execution_count": 2,
   "metadata": {},
   "outputs": [
    {
     "name": "stdout",
     "output_type": "stream",
     "text": [
      "Object `fix_missing` not found.\n"
     ]
    }
   ],
   "source": []
  },
  {
   "cell_type": "code",
   "execution_count": null,
   "metadata": {},
   "outputs": [],
   "source": []
  }
 ],
 "metadata": {
  "kernelspec": {
   "display_name": "Python 3",
   "language": "python",
   "name": "python3"
  },
  "language_info": {
   "codemirror_mode": {
    "name": "ipython",
    "version": 3
   },
   "file_extension": ".py",
   "mimetype": "text/x-python",
   "name": "python",
   "nbconvert_exporter": "python",
   "pygments_lexer": "ipython3",
   "version": "3.6.8"
  }
 },
 "nbformat": 4,
 "nbformat_minor": 2
}
